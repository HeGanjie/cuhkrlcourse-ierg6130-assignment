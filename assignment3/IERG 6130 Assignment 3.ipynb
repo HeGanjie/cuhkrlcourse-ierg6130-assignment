{
  "cells": [
    {
      "cell_type": "markdown",
      "metadata": {
        "id": "lRDDJ6fWURFo"
      },
      "source": [
        "# IERG 6130 Assignment 3: Policy Gradient\n",
        "\n",
        "*2019-2020 2nd term, IERG 6130: Reinforcement Learning and Beyond. Department of Information Engineering, The Chinese University of Hong Kong. Course Instructor: Professor ZHOU Bolei. Assignment author: PENG Zhenghao.*\n",
        "\n"
      ]
    },
    {
      "cell_type": "markdown",
      "metadata": {
        "id": "Nc091fZ_URFs"
      },
      "source": [
        "| Student Name | Student ID |\n",
        "| :----: | :----: |\n",
        "| TYPE_YOUR_NAME_HERE | TYPE_YOUR_STUDENT_ID_HERE |\n",
        "\n",
        "------"
      ]
    },
    {
      "cell_type": "markdown",
      "metadata": {
        "id": "DTvKzzhQURFt"
      },
      "source": [
        "Welecome to the assignment 3 of our RL course. \n",
        "\n",
        "You need to go through this self-contained notebook, which contains many TODOs in part of the cells and has special `[TODO]` signs. You need to finish all TODOs. Some of them may be easy such as uncommenting a line, some of them may be difficult such as implementing a function. You can find them by searching the `[TODO]` symbol. However, we suggest you to go through the notebook step by step, which would give you a better understanding of the content.\n",
        "\n",
        "You are encouraged to add more code on extra cells at the end of the each section to investigate the problems you think interesting. At the end of the file, we left a place for you to optionaly write comments.\n",
        "\n",
        "Please report any code bugs to us via cuhkrlcourse@googlegroups.com or via github issue. Before you submission, remember to check the submit instruction at the directory of this assignment and make sure the required contents are included in your submission.\n",
        "\n",
        "Before you get start, remember to follow the instruction at https://github.com/cuhkrlcourse/ierg6130 to setup your environment.\n",
        "\n",
        "We will cover the following knowledege in this assignment:\n",
        "\n",
        "1. Basic policy gradient method\n",
        "2. Policy gradient with baseline\n",
        "3. Actor-critic framework\n",
        "\n",
        "You need to install some packages.\n",
        "1. Install `yaml` package via `pip install pyyaml` to print training information.\n",
        "2. Install `pandas` via `pip install pandas` to organize the learning progress.\n",
        "3. Install `matplotlib` via `pip install matplotlib` to visualize the learning result.\n",
        "4. Install `seaborn` via `pip install seaborn` to visualize the learning result (beautiful than matplotlib)."
      ]
    },
    {
      "cell_type": "markdown",
      "metadata": {
        "id": "L62Ui6kQURFv"
      },
      "source": [
        "------\n",
        "\n",
        "## Section 1: Basic reinforcement learning pipeline\n",
        "\n",
        "(5 / 100 points)\n",
        "\n",
        "In this section, we will prepare several functions for evaulation, training RL algorithms. We will also build an `AbstractTrainer` class used as a general framework which left blanks for policy gradient methods.\n",
        "\n",
        "A essential difference of this assignment compared to the previous is that: the sampling and the optimization are splited into two phase. In each training iteration, the agent first collects a batch of samples followed by conducting the policy optimization. This modification allows us to have a clear view on the training process."
      ]
    },
    {
      "cell_type": "code",
      "source": [
        "!pip install ribs[all] gym~=0.17.0 Box2D~=2.3.10 tqdm"
      ],
      "metadata": {
        "id": "AUfhV_kZ2lbl"
      },
      "execution_count": null,
      "outputs": []
    },
    {
      "cell_type": "code",
      "execution_count": null,
      "metadata": {
        "id": "Bc3OMsABURFw"
      },
      "outputs": [],
      "source": [
        "# Run this cell without modification\n",
        "\n",
        "import time\n",
        "import gym\n",
        "import numpy as np\n",
        "import matplotlib.pyplot as plt\n",
        "import torch\n",
        "import torch.nn as nn\n",
        "import torch.nn.functional as F\n",
        "import seaborn as sns\n",
        "import pandas as pd\n",
        "\n",
        "from utils import *"
      ]
    },
    {
      "cell_type": "code",
      "execution_count": null,
      "metadata": {
        "id": "PEH0ccU3URFx"
      },
      "outputs": [],
      "source": [
        "# Run this cell without modification\n",
        "\n",
        "def run(trainer_cls, config=None, reward_threshold=None):\n",
        "    \"\"\"Run the trainer and report progress, agnostic to the class of trainer\n",
        "    :param trainer_cls: A trainer class \n",
        "    :param config: A dict\n",
        "    :param reward_threshold: the reward threshold to break the training\n",
        "    :return: The trained trainer and a dataframe containing learning progress\n",
        "    \"\"\"\n",
        "    assert inspect.isclass(trainer_cls)\n",
        "    if config is None:\n",
        "        config = {}\n",
        "    trainer = trainer_cls(config)\n",
        "    config = trainer.config\n",
        "    start = now = time.time()\n",
        "    stats = []\n",
        "    print(\"=== {} {} Training Start ===\".format(trainer_cls.__name__, config[\"env_name\"]))\n",
        "    pretty_print({\"Config\": config})\n",
        "    for i in range(config['max_iteration'] + 1):\n",
        "        stat = trainer.train()\n",
        "        stats.append(stat or {})\n",
        "        if i % config['evaluate_interval'] == 0 or \\\n",
        "                i == config[\"max_iteration\"]:\n",
        "            reward = trainer.evaluate(config[\"evaluate_num_episodes\"])\n",
        "            stat[\"evaluate_reward\"] = reward\n",
        "            print(\"=== {} {} Iteration {} ===\".format(\n",
        "                trainer_cls.__name__, config[\"env_name\"], i)\n",
        "            )\n",
        "            pretty_print({\"Training Progress\": stat})\n",
        "            now = time.time()\n",
        "        if reward_threshold is not None and reward > reward_threshold:\n",
        "            print(\"In {} iteration, current mean episode reward {:.3f} is \"\n",
        "                  \"greater than reward threshold {}. Congratulation! Now we \"\n",
        "                  \"exit the training process.\".format(\n",
        "                i, reward, reward_threshold))\n",
        "            break\n",
        "    stats = pd.DataFrame(stats)\n",
        "    return trainer, stats\n"
      ]
    },
    {
      "cell_type": "code",
      "execution_count": null,
      "metadata": {
        "id": "uU0K-FsTURFy"
      },
      "outputs": [],
      "source": [
        "# Solve the TODOs and remove `pass`\n",
        "\n",
        "default_config = dict(\n",
        "    env_name=\"CartPole-v0\",\n",
        "    \n",
        "    max_iteration=1000,\n",
        "    max_episode_length=1000,\n",
        "    \n",
        "    train_batch_size=1000,\n",
        "    gamma=0.99,\n",
        "    learning_rate=0.01,\n",
        "    seed=0,\n",
        "    \n",
        "    evaluate_interval=10,\n",
        "    evaluate_num_episodes=50\n",
        ")\n",
        "\n",
        "\n",
        "class AbstractTrainer:\n",
        "    \"\"\"This is the abstract class for value-based RL trainer. We will inherent\n",
        "    the specify algorithm's trainer from this abstract class, so that we can\n",
        "    reuse the codes.\n",
        "    \"\"\"\n",
        "\n",
        "    def __init__(self, config=None):\n",
        "        self.config = check_and_merge_config(config or {}, default_config)\n",
        "\n",
        "        # Create the environment\n",
        "        self.env_name = self.config['env_name']\n",
        "        self.env = gym.make(self.env_name)\n",
        "        if \"ram\" in self.env_name:  # Special process for Atari games\n",
        "            self.env = wrap_deepmind_ram(self.env)\n",
        "\n",
        "        # Apply the random seed\n",
        "        self.seed = self.config[\"seed\"]\n",
        "        seed_everything(self.seed)\n",
        "        self.env.seed(self.seed)\n",
        "\n",
        "        assert isinstance(self.env.observation_space,\n",
        "                          gym.spaces.Box), self.env.observation_space\n",
        "        self.obs_dim = self.env.observation_space.shape[0]\n",
        "        self.discrete_obs = True\n",
        "\n",
        "        assert isinstance(self.env.action_space, gym.spaces.discrete.Discrete)\n",
        "        self.act_dim = self.env.action_space.n\n",
        "\n",
        "        self.iteration = 0\n",
        "        self.start_time = time.time()\n",
        "        self.iteration_time = self.start_time\n",
        "        self.total_timesteps = 0\n",
        "        self.total_episodes = 0\n",
        "        self.gamma = self.config[\"gamma\"]\n",
        "\n",
        "        # build the model\n",
        "        self.build_model()\n",
        "\n",
        "    def build_model(self):\n",
        "        raise NotImplementedError()\n",
        "\n",
        "    # ===== Helper functions =====\n",
        "    def evaluate(self, num_episodes=10, render=False):\n",
        "        \"\"\"Evaluate the agents for num_episodes episodes.\"\"\"\n",
        "        return evaluate_agent(self, self.env, num_episodes, render)\n",
        "\n",
        "    def to_tensor(self, array):\n",
        "        \"\"\"Preprocess the observation.\"\"\"\n",
        "        raise NotImplementedError()\n",
        "\n",
        "    def compute_action(self, observation):\n",
        "        \"\"\"Return the action, which can feed to self.env.step immediately.\"\"\"\n",
        "        raise NotImplementedError()\n",
        "\n",
        "    def compute_values(self, observation):\n",
        "        raise NotImplementedError()\n",
        "\n",
        "    def compute_log_probs(self, observation):\n",
        "        raise NotImplementedError()\n",
        "\n",
        "    # ===== Training-related functions =====\n",
        "    def collect_samples(self):\n",
        "        \"\"\"Here we define the pipeline to collect sample even though\n",
        "        any specify functions are not implemented yet.\n",
        "        \"\"\"\n",
        "        iter_timesteps = 0\n",
        "        iter_episodes = 0\n",
        "        episode_lens = []\n",
        "        episode_rewards = []\n",
        "        episode_obs_list = []\n",
        "        episode_act_list = []\n",
        "        episode_reward_list = []\n",
        "        while iter_timesteps <= self.config[\"train_batch_size\"]:\n",
        "            obs_list, act_list, reward_list = [], [], []\n",
        "            obs = self.env.reset()\n",
        "            steps = 0\n",
        "            episode_reward = 0\n",
        "            while True:\n",
        "                act = self.compute_action(obs)\n",
        "                next_obs, reward, done, _ = self.env.step(act)\n",
        "\n",
        "                obs_list.append(obs)\n",
        "                act_list.append(act)\n",
        "                reward_list.append(reward)\n",
        "\n",
        "                obs = next_obs.copy()\n",
        "                steps += 1\n",
        "                episode_reward += reward\n",
        "                if done or steps > self.config[\"max_episode_length\"]:\n",
        "                    break\n",
        "            iter_timesteps += steps\n",
        "            iter_episodes += 1\n",
        "            episode_rewards.append(episode_reward)\n",
        "            episode_lens.append(steps)\n",
        "            episode_obs_list.append(np.array(obs_list, dtype=np.float32))\n",
        "            episode_act_list.append(np.array(act_list, dtype=np.float32))\n",
        "            episode_reward_list.append(np.array(reward_list, dtype=np.float32))\n",
        "        \n",
        "        # [TODO] Uncomment everything below and understand the data structure:\n",
        "        # The return `samples` is a dict that contains several fields.\n",
        "        # Each field (key-value pair) contains a list.\n",
        "        # Each element in list is a list represent the data in one trajectory (episode).\n",
        "        # Each episode list contains the data of that field of all time steps in that episode.\n",
        "        # The return `sample_info` is a dict contains logging item name and its value.\n",
        "        samples = {\n",
        "            \"obs\": episode_obs_list,\n",
        "            \"act\": episode_act_list,\n",
        "            \"reward\": episode_reward_list\n",
        "        }\n",
        "        \n",
        "        sample_info = {\n",
        "            \"iter_timesteps\": iter_timesteps,\n",
        "            \"iter_episodes\": iter_episodes,\n",
        "            \"performance\": np.mean(episode_rewards),  # help drawing figures\n",
        "            \"training_episode_length\": {\n",
        "                \"mean\": float(np.mean(episode_lens)),\n",
        "                \"max\": float(np.max(episode_lens)),\n",
        "                \"min\": float(np.min(episode_lens))\n",
        "            },\n",
        "            \"training_episode_reward\": {\n",
        "                \"mean\": float(np.mean(episode_rewards)),\n",
        "                \"max\": float(np.max(episode_rewards)),\n",
        "                \"min\": float(np.min(episode_rewards))\n",
        "            }\n",
        "        }\n",
        "        return samples, sample_info\n",
        "\n",
        "    def process_samples(self, samples):\n",
        "        raise NotImplementedError()\n",
        "\n",
        "    def update_model(self, processed_samples):\n",
        "        raise NotImplementedError()\n",
        "\n",
        "    # ===== Training iteration =====\n",
        "    def train(self):\n",
        "        \"\"\"Here we defined the training pipeline using the abstract\n",
        "        functions.\"\"\"\n",
        "        info = dict(iteration=self.iteration)\n",
        "\n",
        "        # [TODO] Uncomment the following block and go through the learning \n",
        "        # pipeline.\n",
        "        # Collect samples\n",
        "        samples, sample_info = self.collect_samples()\n",
        "        info.update(sample_info)\n",
        "\n",
        "        # Process samples\n",
        "        processed_samples, processed_info = self.process_samples(samples)\n",
        "        info.update(processed_info)\n",
        "\n",
        "        # Update the model\n",
        "        update_info = self.update_model(processed_samples)\n",
        "        info.update(update_info)\n",
        "\n",
        "        now = time.time()\n",
        "        self.iteration += 1\n",
        "        self.total_timesteps += info[\"iter_timesteps\"]\n",
        "        self.total_episodes += info[\"iter_episodes\"]\n",
        "        info[\"iter_time\"] = now - self.iteration_time\n",
        "        info[\"total_time\"] = now - self.start_time\n",
        "        info[\"total_episodes\"] = self.total_episodes\n",
        "        info[\"total_timesteps\"] = self.total_timesteps\n",
        "        self.iteration_time = now\n",
        "        return info\n"
      ]
    },
    {
      "cell_type": "code",
      "execution_count": null,
      "metadata": {
        "id": "zSFpu2RYURFz",
        "colab": {
          "base_uri": "https://localhost:8080/"
        },
        "outputId": "8a2ab576-f1bd-42c3-88a6-6769716da414"
      },
      "outputs": [
        {
          "output_type": "stream",
          "name": "stdout",
          "text": [
            "Test Passed!\n"
          ]
        }
      ],
      "source": [
        "# Run this cell without modification\n",
        "\n",
        "class TestAbstractTrainer(AbstractTrainer):\n",
        "    def build_model(self):\n",
        "        pass\n",
        "    def compute_action(self, _):\n",
        "        return np.random.choice(self.act_dim)\n",
        "test_trainer = TestAbstractTrainer()\n",
        "s, s_info = test_trainer.collect_samples()\n",
        "assert len(s[\"obs\"]) == s_info[\"iter_episodes\"]\n",
        "for i in range(len(s[\"obs\"])):\n",
        "    assert s[\"obs\"][i].shape[0] <= default_config[\"max_episode_length\"]\n",
        "    assert len(s[\"act\"][i]) == len(s[\"obs\"][i]) == len(s[\"reward\"][i])\n",
        "assert abs(s_info[\"training_episode_length\"][\"mean\"] * s_info[\"iter_episodes\"]\n",
        "           - s_info[\"iter_timesteps\"]) < 1\n",
        "print(\"Test Passed!\")"
      ]
    },
    {
      "cell_type": "markdown",
      "metadata": {
        "id": "cqHgjLWEURF0"
      },
      "source": [
        "Now we have an abstract trainer class here. We have abstracted the learning process into three phases: Collect samples, process samples and update the model. In the following sections, we will continue to fulfill the blank functions."
      ]
    },
    {
      "cell_type": "markdown",
      "metadata": {
        "id": "MNJiNAWbURF0"
      },
      "source": [
        "## Section 2: Basic policy gradient method\n",
        "\n",
        "(40 / 100 points)\n",
        "\n",
        "Unlike supervised learning, in RL setting the signal: reward and the output of neural network: the action distribution parameter (like the logits in discrete case or the mean in continous case) have no direct connection in terms of gradient. That is, you can't compute the gradient from the environment to your network output. \n",
        "\n",
        "To leverage the powerful tool of gradient descent, scientists innovated a technique called policy gradient, which is computed on top of the rewards and policy network's output. Scientists prove that: the policy gradient is the gradient of expected return w.r.t. the output. So that by applying gradient descent to gradient descent algorithm you can optimize your policy network and maximize the expected return (or minimize the negative of expected return).\n",
        "\n",
        "Concretely, if we consider the expected return, the value we want to maximize, is:\n",
        "\n",
        "$$Q = \\mathbb E_{\\text{possible trajectories}} \\sum_t r(a_t, s_t) = \\sum_{s_0, a_0,..} p(s_0, a_0, ..., s_t, a_t) r(s_0, a_0, ..., s_t, a_t) = \\sum_{\\tau} p(\\tau)r(\\tau)$$ \n",
        "\n",
        "wherein $\\sum_t r(a_t, s_t) = r(s_0, a_0, ..., s_t, a_t) = r(\\tau)$ is the trajectory return. We use $\\tau$ to represent a trajectory $s_0, a_0, ..., s_t, a_t$. Note that we remove the discount factor for simplicity.\n",
        "\n",
        "Since we want to maximize Q, we can simply compute the gradient from Q to parameter $\\theta$ (which is included in the action probability $p(a_t)$):\n",
        "\n",
        "$$\\nabla_\\theta Q = \\nabla_\\theta \\sum_{\\tau} p(\\tau)r(\\tau) = \\sum_{\\tau} r(\\tau) \\nabla_\\theta p(\\tau)$$\n",
        "\n",
        "Scientists use a famous trick to deal with the gradient of probability of trajectory: $\\nabla_\\theta p(\\tau) = p(\\tau)\\cfrac{\\nabla_\\theta p(\\tau)}{p(\\tau)} = p(\\tau)\\nabla_\\theta \\log p(\\tau)$. \n",
        "\n",
        "The reason for this trick is that the probability of a trajectory is the product of all related probabilities of states and actions. So introducing a log term can change the production to summation: $p_\\theta(\\tau) = p(s_0, a_0, ...) = p(s_0) \\prod_t \\pi_\\theta (a_t|s_t) p(s_{t+1}|s_t, a_t)$ Now we can expand the log of product above to sum of log:\n",
        "\n",
        "$$\\log p_\\theta (\\tau) = \\log p(s_1) + \\sum_t \\log \\pi_\\theta(a_t|s_t) + \\sum_t \\log p(s_{t+1}|s_t, a_t)$$\n",
        "\n",
        "You will find that the first and third term are not related to the parameter of policy $\\pi_\\theta(\\cdot)$. So when we back to $\\nabla_\\theta Q$, we find \n",
        "\n",
        "$$\\nabla_\\theta Q = \\sum_{\\tau} r(\\tau) \\nabla_\\theta p(\\tau) =  \\sum p_\\theta(\\tau) ( \\sum_t  \\nabla_\\theta \\log \\pi_\\theta(a_t|s_t) ) r(\\tau) d\\tau$$\n",
        "\n",
        "The probability of trajectory is included when we sampled sufficient data from environment (Yes, so REINFORCE is a Monte Carlo algorithm) so the final form of policy gradient is:\n",
        "\n",
        "$$\\nabla_\\theta Q =\\cfrac{1}{N}\\sum_{i=1}^N [( \\sum_t  \\nabla_\\theta \\log \\pi_\\theta(a_{i,t}|s_{i,t}) (\\sum_{t'=t} \\gamma^{t'-t} r(s_{i,t'}, a_{i,t'}) )]$$\n",
        "\n",
        "This algorithm is called REINFORCE algorithm, which is a Monte Carlo Policy Gradient algorithm having long history. In this section, we will implement the it using pytorch."
      ]
    },
    {
      "cell_type": "markdown",
      "metadata": {
        "id": "5rrr2L65URF1"
      },
      "source": [
        "The policy network is composed by two parts: a basic MLP serve as function approximator which predict the probabilities of actions given the observation; and a distribution layer building upon the MLP to wrap the raw logits output of neural network to a distribution and provides API for action sampling and log probability retrieving."
      ]
    },
    {
      "cell_type": "code",
      "execution_count": null,
      "metadata": {
        "id": "oIlGldpDURF1"
      },
      "outputs": [],
      "source": [
        "# Run this cell without modification\n",
        "\n",
        "class Net(nn.Module):\n",
        "    def __init__(self, obs_dim, act_dim, hidden_units=128):\n",
        "        super(Net, self).__init__()\n",
        "        self.fc0 = nn.Linear(obs_dim, hidden_units)\n",
        "        self.fc1 = nn.Linear(hidden_units, act_dim)\n",
        "\n",
        "    def forward(self, x):\n",
        "        x = x.type_as(self.fc0.bias)\n",
        "        x = F.relu(self.fc0(x))\n",
        "        x = self.fc1(x)\n",
        "        return x\n",
        "\n",
        "\n",
        "class CategoricalPolicy(nn.Module):\n",
        "    def __init__(self, obs_dim, act_dim, hidden_units=128):\n",
        "        super(CategoricalPolicy, self).__init__()\n",
        "        self.network = Net(obs_dim, act_dim, hidden_units)\n",
        "\n",
        "    def forward(self, obs):\n",
        "        logit = self.network(obs)\n",
        "        \n",
        "        # [TODO] Create an object of the class \"Categorical\" in torch \n",
        "        # package \"distributions\". Then sample an action from it.\n",
        "        m = torch.distributions.Categorical(logits=logit)\n",
        "        action = m.sample()\n",
        "        return action\n",
        "\n",
        "    def log_prob(self, obs, act):\n",
        "        logits = self.network(obs)\n",
        "        \n",
        "        # [TODO] Create an object of the class \"Categorical\" in torch \n",
        "        # package \"distributions\". Then collect the log probability of\n",
        "        # the action in this distribution.\n",
        "        m = torch.distributions.Categorical(logits=logits)\n",
        "        log_prob = m.log_prob(act)\n",
        "        return log_prob\n",
        "\n",
        "# Not that we do not implement GaussianPolicy here. So we can't\n",
        "# apply our algorithm to the environment with continous action.\n"
      ]
    },
    {
      "cell_type": "code",
      "execution_count": null,
      "metadata": {
        "id": "Zc3jAAcSURF2"
      },
      "outputs": [],
      "source": [
        "# Solve the TODOs and remove `pass`\n",
        "\n",
        "pg_default_config = merge_config(dict(\n",
        "    normalize_advantage=True,\n",
        "    clip_gradient=10.0,\n",
        "    hidden_units=64,\n",
        "), default_config)\n",
        "\n",
        "\n",
        "class PGTrainer(AbstractTrainer):\n",
        "    def __init__(self, config=None):\n",
        "        config = check_and_merge_config(config or {}, pg_default_config)\n",
        "        super().__init__(config)\n",
        "\n",
        "    def build_model(self):\n",
        "        \"\"\"Build the policy network and related optimizer\"\"\"\n",
        "        # Detect whether you have GPU or not. Remember to call X.to(self.device)\n",
        "        # if necessary.\n",
        "        self.device = torch.device(\n",
        "            \"cuda\" if torch.cuda.is_available() else \"cpu\"\n",
        "        )\n",
        "        \n",
        "        # [TODO] Build the policy network using CategoricalPolicy\n",
        "        # Hint: Remember to pass config[\"hidden_units\"], and set policy network\n",
        "        #  to the device you are using.\n",
        "        self.policy = CategoricalPolicy(self.obs_dim, self.act_dim, self.config[\"hidden_units\"]).to(self.device)\n",
        "        self.policy.eval()\n",
        "\n",
        "        # Build the Adam optimizer.\n",
        "        self.optimizer = torch.optim.Adam(\n",
        "            self.policy.parameters(),\n",
        "            lr=self.config[\"learning_rate\"]\n",
        "        )\n",
        "\n",
        "    def to_tensor(self, array):\n",
        "        \"\"\"Transform a numpy array to a pytorch tensor\"\"\"\n",
        "        return torch.from_numpy(array).to(self.device)\n",
        "\n",
        "    def to_array(self, tensor):\n",
        "        \"\"\"Transform a pytorch tensor to a numpy array\"\"\"\n",
        "        return tensor.cpu().detach().numpy()\n",
        "\n",
        "    def compute_action(self, observation):\n",
        "        \"\"\"Compute the action for single observation\"\"\"\n",
        "        assert observation.ndim == 1\n",
        "        # [TODO] Sample an action from action distribution given by the policy\n",
        "        # Hint: The input of policy network is a batch of data, so you need to\n",
        "        #  expand the first dimension of observation before feeding it to policy network.\n",
        "        with torch.no_grad():\n",
        "          obs = self.to_tensor(observation).squeeze()\n",
        "          action = self.policy(obs)\n",
        "          return action.item()\n",
        "\n",
        "    def compute_log_probs(self, observation, action):\n",
        "        \"\"\"Compute the log probabilities of a batch of state-action pair\"\"\"\n",
        "        # [TODO] Using the function of policy network to get log probs.\n",
        "        # Hint: Remember to transform the data into tensor before feeding it.\n",
        "        obs = self.to_tensor(observation)\n",
        "        act = self.to_tensor(action)\n",
        "        return self.policy.log_prob(obs, act)\n",
        "\n",
        "    def process_samples(self, samples):\n",
        "        \"\"\"Process samples and add advantages in it\"\"\"\n",
        "        values = []\n",
        "        for reward_list in samples[\"reward\"]:\n",
        "            # reward_list contains rewards in one episode\n",
        "            returns = np.zeros_like(reward_list, dtype=np.float32)\n",
        "            Q = 0\n",
        "            \n",
        "            # [TODO] Scan the episode in a reverse order and compute the\n",
        "            # discounted return at each time step. Fill the array `returns`\n",
        "            # Hint: returns[n-1] = r_n-1\n",
        "            #       returns[n-2] = r_n-2 + gamma * r_n-1\n",
        "            #       ...\n",
        "            #       returns[0] = r_0 + gamma * r_1 + gamma^2 * r_2 + ...\n",
        "            #  wherein n is len(reward_list)\n",
        "            l = len(reward_list)\n",
        "            for i in range(1, l + 1):\n",
        "              pos = l - i\n",
        "              Q = reward_list[pos] + self.gamma * Q\n",
        "              returns[pos] = Q\n",
        "                \n",
        "            values.append(returns)\n",
        "\n",
        "        # We call the values advantage here.\n",
        "        advantages = np.concatenate(values)\n",
        "\n",
        "        if self.config[\"normalize_advantage\"]:\n",
        "            # [TODO] normalize the advantage so that it's mean is\n",
        "            # almost 0 and the its standard deviation is almost 1.\n",
        "            advantages = (advantages-np.mean(advantages))/max(np.std(advantages), 1e-6)\n",
        "        \n",
        "        samples[\"advantages\"] = advantages\n",
        "        return samples, {}\n",
        "\n",
        "    def update_model(self, processed_samples):\n",
        "        \"\"\"A wrapper function, call self.update_policy\"\"\"\n",
        "        return self.update_policy(processed_samples)\n",
        "\n",
        "    def update_policy(self, processed_samples):\n",
        "        \"\"\"Update the policy network\"\"\"\n",
        "        advantages = self.to_tensor(processed_samples[\"advantages\"])\n",
        "        flat_obs = np.concatenate(processed_samples[\"obs\"])\n",
        "        flat_act = np.concatenate(processed_samples[\"act\"])\n",
        "\n",
        "        self.policy.train()\n",
        "        self.optimizer.zero_grad()\n",
        "\n",
        "        log_probs = self.compute_log_probs(flat_obs, flat_act)\n",
        "\n",
        "        # print(f'obs_dim: {self.obs_dim}, act_dim: {self.act_dim}')\n",
        "        # print(f'advantages shape: {advantages.shape}, flat_obs shape: {flat_obs.shape}, flat_act shape: {flat_act.shape}')\n",
        "\n",
        "        assert log_probs.shape == advantages.shape, \"log_probs shape {} is not \" \\\n",
        "            \"compatible with advantages {}\".format(log_probs.shape, advantages.shape)\n",
        "        \n",
        "        # [TODO] Compute the loss using log probabilities and advantages.\n",
        "        loss = -(log_probs * advantages).sum(dim=-1).mean()\n",
        "        loss.backward()\n",
        "        \n",
        "        # Clip the gradient\n",
        "        torch.nn.utils.clip_grad_norm_(\n",
        "            self.policy.parameters(), self.config[\"clip_gradient\"]\n",
        "        )\n",
        "\n",
        "        self.optimizer.step()\n",
        "        self.policy.eval()\n",
        "        update_info = {\n",
        "            \"policy_loss\": loss.item(),\n",
        "            \"mean_log_prob\": torch.mean(log_probs).item(),\n",
        "            \"mean_advantage\": torch.mean(advantages).item()\n",
        "        }\n",
        "        return update_info\n"
      ]
    },
    {
      "cell_type": "code",
      "execution_count": null,
      "metadata": {
        "id": "pPN0RBjfURF3",
        "colab": {
          "base_uri": "https://localhost:8080/"
        },
        "outputId": "d4107fba-718c-40f3-a15f-b7df2ef40a28"
      },
      "outputs": [
        {
          "output_type": "stream",
          "name": "stdout",
          "text": [
            "Test Passed!\n"
          ]
        }
      ],
      "source": [
        "# Run this cell without modification\n",
        "\n",
        "# Test advantage computing\n",
        "test_trainer = PGTrainer({\"normalize_advantage\": False})\n",
        "test_trainer.train()\n",
        "fake_sample = {\"reward\": [[2, 2, 2, 2, 2]]}\n",
        "assert_almost_equal(\n",
        "    test_trainer.process_samples(fake_sample)[0][\"reward\"][0],\n",
        "    fake_sample[\"reward\"][0]\n",
        ")\n",
        "assert_almost_equal(\n",
        "    test_trainer.process_samples(fake_sample)[0][\"advantages\"],\n",
        "    np.array([9.80199, 7.880798, 5.9402, 3.98, 2.], dtype=np.float32)\n",
        ")\n",
        "\n",
        "# Test advantage normalization\n",
        "test_trainer = PGTrainer(\n",
        "    {\"normalize_advantage\": True, \"env_name\": \"LunarLander-v2\"})\n",
        "test_adv = test_trainer.process_samples(fake_sample)[0][\"advantages\"]\n",
        "assert_almost_equal(test_adv.mean(), 0.0)\n",
        "assert_almost_equal(test_adv.std(), 1.0)\n",
        "\n",
        "# Test the shape of functions' returns\n",
        "fake_observation = np.array([\n",
        "    test_trainer.env.observation_space.sample() for i in range(10)\n",
        "])\n",
        "fake_action = np.array([\n",
        "    test_trainer.env.action_space.sample() for i in range(10)\n",
        "])\n",
        "assert test_trainer.to_tensor(fake_observation).shape == torch.Size([10, 8])\n",
        "assert np.array(test_trainer.compute_action(fake_observation[0])).shape == ()\n",
        "assert test_trainer.compute_log_probs(fake_observation, fake_action).shape == \\\n",
        "       torch.Size([10])\n",
        "\n",
        "print(\"Test Passed!\")\n"
      ]
    },
    {
      "cell_type": "code",
      "execution_count": null,
      "metadata": {
        "scrolled": true,
        "id": "OjLqrZvuURF3"
      },
      "outputs": [],
      "source": [
        "# Run this cell without modification\n",
        "\n",
        "pg_trainer_no_na, pg_result_no_na = run(PGTrainer, dict(\n",
        "    learning_rate=0.01,\n",
        "    max_episode_length=200,\n",
        "    train_batch_size=200,\n",
        "    normalize_advantage=False,  # <<== Here!\n",
        "), 195.0)\n"
      ]
    },
    {
      "cell_type": "code",
      "execution_count": null,
      "metadata": {
        "scrolled": true,
        "id": "Qdpw4n4mURF3"
      },
      "outputs": [],
      "source": [
        "# Run this cell without modification\n",
        "\n",
        "pg_trainer_na, pg_result_na = run(PGTrainer, dict(\n",
        "    learning_rate=0.01,\n",
        "    max_episode_length=200,\n",
        "    train_batch_size=200,\n",
        "    normalize_advantage=True,  # <<== Here!\n",
        "), 195.0)\n"
      ]
    },
    {
      "cell_type": "code",
      "execution_count": null,
      "metadata": {
        "id": "tvqB0h18URF4",
        "colab": {
          "base_uri": "https://localhost:8080/",
          "height": 314
        },
        "outputId": "864805d0-285a-4301-9df5-46d35160432a"
      },
      "outputs": [
        {
          "output_type": "execute_result",
          "data": {
            "text/plain": [
              "Text(0.5, 1.0, 'Policy Gradient')"
            ]
          },
          "metadata": {},
          "execution_count": 70
        },
        {
          "output_type": "display_data",
          "data": {
            "text/plain": [
              "<Figure size 432x288 with 1 Axes>"
            ],
            "image/png": "[encoded data removed]"
          },
          "metadata": {
            "needs_background": "light"
          }
        }
      ],
      "source": [
        "# Run this cell without modification\n",
        "\n",
        "pg_result_no_na[\"normalize_advantage\"] = False\n",
        "pg_result_na[\"normalize_advantage\"] = True\n",
        "pg_result = pd.concat([pg_result_no_na, pg_result_na]).reset_index()\n",
        "ax = sns.lineplot(\n",
        "    x=\"total_timesteps\", \n",
        "    y=\"performance\", \n",
        "    data=pg_result, hue=\"normalize_advantage\",\n",
        ")\n",
        "ax.set_title(\"Policy Gradient\")"
      ]
    },
    {
      "cell_type": "markdown",
      "metadata": {
        "id": "pjrSxejAURF4"
      },
      "source": [
        "## Section 3: Policy gradient with baseline\n",
        "\n",
        "(25 / 100 points)\n",
        "\n",
        "Recall the REINFORCE algorithm above. We compute the gradient of $Q = \\mathop{\\mathbb E} \\sum_t r(a_t, s_t)$ w.r.t. the parameter to update the policy. A natural question is that, when you take an inferior action that lead to positive expected return, the policy gradient is also positive and you will update your network toward this action. At the same time a potential better action is ignored.\n",
        "\n",
        "To tackle this problem, we introduce \"baseline\" when computing the policy gradient. The insight behind this is that we want to optimize the policy toward an action that are better than the average performance when taking all action into consideration at a given state.\n",
        "\n",
        "We introduce $b_{t} = \\mathbb E_{a_t} \\sum_{t'}{\\gamma^{t'-t} r(s_{t'}, a_{t'})}$ as the baseline. It average all possible actions at state $s_t$. So that the profit achieved by action $a_t$ can be evaluated via $\\sum_{t'=t} \\gamma^{t' -t}r(a_{t'}, s_{t'}) - b_t$\n",
        "\n",
        "Therefore, the policy gradient becomes:\n",
        "\n",
        "$$\\nabla_\\theta Q =\\cfrac{1}{N}\\sum_{i=1}^N [( \\sum_t  \\nabla_\\theta \\log \\pi_\\theta(a_{i,t}|s_{i,t}) (\\sum_{t'} \\gamma^{t'-t} r(s_{i,{t’}}, a_{i,t‘}) - b_{i, t})]$$\n",
        "\n",
        "In our implementation, we estimate the baseline via an extra network `self.baseline`, which has same structure of policy network but output only a scalar value. We use the output of this network to serve as the baseline, while this network is updated by fitting the true value of expected return of current state: $\\mathbb E_{a_t} \\sum_{t'}{\\gamma^{t'-t} r(s_{t'}, a_{t'})}$\n",
        "\n",
        "In implementation, we use a trick to match the distribution of baseline and values. During training, we first collect a batch of target values: $\\{t_i= \\mathbb E_{a_t} \\sum_{t'}{\\gamma^{t'-t} r(s_{t'}, a_{t'})}\\}_i$. Then we normalzie all targets to standard distribution with mean = 0 and std = 1. Then we ask the baseline network to fit such normalized targets.\n",
        "\n",
        "When computing the advantages, instead of using the output of baseline network as the baseline $b$, we firstly match the baseline distribution with action values. The transformed baselines $b' = f(b)$ should has the same means of action values and same STD of action values too. Then we compute the advantage of current action: $adv_{i,t} = \\sum_{t'} \\gamma^{t'-t} r(s_{i,{t'}}, a_{i,t'}) - b'_{i, t}$\n",
        "\n",
        "By doing this, we mitigate the instability of training baseline.\n",
        "\n",
        "Hint: We suggest to normalize an array via: `(x - x.mean()) / max(x.std(), 1e-6)`. The max term can avoid potential risk of error."
      ]
    },
    {
      "cell_type": "code",
      "execution_count": null,
      "metadata": {
        "id": "LrsjW0YhURF4"
      },
      "outputs": [],
      "source": [
        "pg_with_baseline_default_config = merge_config(dict(), pg_default_config)\n",
        "\n",
        "class PolicyGradientWithBaselineTrainer(PGTrainer):\n",
        "    def __init__(self, config=None):\n",
        "        config = check_and_merge_config(config or {}, pg_with_baseline_default_config)\n",
        "        super().__init__(config)\n",
        "\n",
        "    def build_model(self):\n",
        "        # Build the actor in name of self.policy\n",
        "        super().build_model()\n",
        "        \n",
        "        # [TODO] Build the baseline network using Net class.\n",
        "        # Remember that you need to set the output dimension to 1.\n",
        "        # Remember using model.to(device) function to move your model to GPU (if applicable)\n",
        "        self.baseline = Net(self.obs_dim, 1, self.config[\"hidden_units\"]).to(self.device)\n",
        "        self.baseline.eval()\n",
        "        \n",
        "        self.baseline_loss = nn.MSELoss()\n",
        "            \n",
        "        self.baseline_optimizer = torch.optim.Adam(\n",
        "            self.baseline.parameters(),\n",
        "            lr=self.config[\"learning_rate\"]\n",
        "        )\n",
        "\n",
        "    def process_samples(self, samples):\n",
        "        # Call the original process_samples function to get advantages\n",
        "        tmp_samples, _ = super().process_samples(samples)\n",
        "        values = tmp_samples[\"advantages\"]\n",
        "        samples[\"values\"] = values  # We add q_values into samples\n",
        "\n",
        "        # [TODO] flatten the observations in all trajectories (still a numpy array)\n",
        "        obs = np.concatenate(tmp_samples[\"obs\"])\n",
        "        \n",
        "        assert obs.ndim == 2\n",
        "        assert obs.shape[1] == self.obs_dim\n",
        "        \n",
        "        obs = self.to_tensor(obs)\n",
        "        samples[\"flat_obs\"] = obs\n",
        "\n",
        "        # [TODO] Compute the baseline by feeding observation to baseline network\n",
        "        # Hint: baselines turns out to be a numpy array with the same shape of `values`,\n",
        "        #  that is: (batch size, )\n",
        "        baselines = self.baseline(obs)\n",
        "        baselines = self.to_array(baselines).squeeze()\n",
        "        assert baselines.shape == values.shape, f'baselines.shape: {baselines.shape}, values.shape: {values.shape}'\n",
        "        \n",
        "        # [TODO] Match the distribution of baselines to the values.\n",
        "        # Hint: We expect to see baselines.std almost equals to values.std, \n",
        "        #  and baselines.mean almost equals to values.mean\n",
        "        # baselines = (baselines - baselines.mean()) / max(baselines.std(), 1e-6)\n",
        "        baselines = (baselines - baselines.mean() + values.mean()) / max(baselines.std(), 1e-6) * max(values.std(), 1e-6)\n",
        "\n",
        "\n",
        "        # Compute the advantage\n",
        "        advantages = values - baselines\n",
        "        samples[\"advantages\"] = advantages\n",
        "        process_info = {\"mean_baseline\": float(np.mean(baselines))}\n",
        "        return samples, process_info\n",
        "\n",
        "    def update_model(self, processed_samples):\n",
        "        update_info = {}\n",
        "        update_info.update(self.update_baseline(processed_samples))\n",
        "        update_info.update(self.update_policy(processed_samples))\n",
        "        return update_info\n",
        "\n",
        "    def update_baseline(self, processed_samples):\n",
        "        self.baseline.train()\n",
        "        obs = processed_samples[\"flat_obs\"]\n",
        "\n",
        "        # [TODO] Normalize the values to mean=0, std=1.\n",
        "        values = processed_samples[\"values\"]\n",
        "        values = (values - values.mean()) / max(values.std(), 1e-6)\n",
        "        \n",
        "        values = self.to_tensor(values[:, np.newaxis])\n",
        "        \n",
        "        baselines = self.baseline(obs)\n",
        "\n",
        "        self.baseline_optimizer.zero_grad()\n",
        "        loss = self.baseline_loss(input=baselines, target=values)\n",
        "        loss.backward()\n",
        "        \n",
        "        # Clip the gradient\n",
        "        torch.nn.utils.clip_grad_norm_(\n",
        "            self.baseline.parameters(), self.config[\"clip_gradient\"]\n",
        "        )\n",
        "        \n",
        "        self.baseline_optimizer.step()\n",
        "        self.baseline.eval()\n",
        "        return dict(baseline_loss=loss.item())\n"
      ]
    },
    {
      "cell_type": "code",
      "execution_count": null,
      "metadata": {
        "scrolled": true,
        "id": "TT55cnE1URF5"
      },
      "outputs": [],
      "source": [
        "# Run this cell without modification\n",
        "\n",
        "pg_trainer_wb, pgwb_result_wb = run(PolicyGradientWithBaselineTrainer, dict(\n",
        "    learning_rate=0.01,\n",
        "    max_episode_length=200,\n",
        "    train_batch_size=200,\n",
        "), 195.0)\n"
      ]
    },
    {
      "cell_type": "code",
      "execution_count": null,
      "metadata": {
        "id": "LVQLIrAYURF5",
        "colab": {
          "base_uri": "https://localhost:8080/",
          "height": 314
        },
        "outputId": "bf5e1a91-0e8f-4821-cf41-730b0ffa2895"
      },
      "outputs": [
        {
          "output_type": "execute_result",
          "data": {
            "text/plain": [
              "Text(0.5, 1.0, 'Policy Gradient')"
            ]
          },
          "metadata": {},
          "execution_count": 73
        },
        {
          "output_type": "display_data",
          "data": {
            "text/plain": [
              "<Figure size 432x288 with 1 Axes>"
            ],
            "image/png": "[encoded data removed]"
          },
          "metadata": {
            "needs_background": "light"
          }
        }
      ],
      "source": [
        "# Run this cell without modification\n",
        "\n",
        "pg_result_no_na[\"normalize_advantage\"] = False\n",
        "pg_result_na[\"normalize_advantage\"] = True\n",
        "pgwb_result_wb[\"normalize_advantage\"] = \"True with Baseline\"\n",
        "pg_result = pd.concat([pg_result_no_na, pg_result_na, pgwb_result_wb]).reset_index()\n",
        "ax = sns.lineplot(\n",
        "    x=\"total_timesteps\", \n",
        "    y=\"performance\", \n",
        "    data=pg_result, hue=\"normalize_advantage\",\n",
        ")\n",
        "ax.set_title(\"Policy Gradient\")"
      ]
    },
    {
      "cell_type": "code",
      "execution_count": null,
      "metadata": {
        "id": "BsYQmutgURF6"
      },
      "outputs": [],
      "source": [
        "# Run this cell without modification\n",
        "\n",
        "# You should see a pop up window which display the movement of the cart and pole.\n",
        "print(\"Average episode reward for your Policy Gradient agent in CartPole-v0: \",\n",
        "      pg_trainer_wb.evaluate(1, render=True))"
      ]
    },
    {
      "cell_type": "markdown",
      "metadata": {
        "id": "ATIt6nJmURF6"
      },
      "source": [
        "## Section 4: Actor-critic Method\n",
        "\n",
        "(30 / 100 points totally)\n",
        "\n",
        "### Section 4.1: Implement ActorCriticTrainer\n",
        "\n",
        "(20 / 100 points)"
      ]
    },
    {
      "cell_type": "markdown",
      "metadata": {
        "id": "7sjz69dfURF6"
      },
      "source": [
        "As point out in the textbook Page 331, the difference of Actor-critic methods and policy gradient with baseline method is whether the critic (baseline) participates in the bootstrapping. In `PolicyGradientWithBaselineTrainer`, we update the baseline network by fitting the ground-truth Q values. However, in actor-critic trainer presented below, we update the critic via fitting a bootstrapped target: \n",
        "\n",
        "$$\\delta = r_t + \\gamma V(s_{t+1}) - V(s_t)$$\n",
        "\n",
        "wherein $V$ is the values predicted by critic. In `ActorCriticTrainer`, in order to reuse the codes, we use `self.baseline` to represent the critic network."
      ]
    },
    {
      "cell_type": "code",
      "execution_count": null,
      "metadata": {
        "id": "W3iW_N23URF6"
      },
      "outputs": [],
      "source": [
        "# Solve the TODOs and remove `pass`\n",
        "\n",
        "ac_default_config = merge_config(dict(\n",
        "    normalize_advantage=True,\n",
        "    num_critic_updates=10,\n",
        "    num_critic_update_steps=10\n",
        "), pg_with_baseline_default_config)\n",
        "\n",
        "class ActorCriticTrainer(PolicyGradientWithBaselineTrainer):\n",
        "    def __init__(self, config=None):\n",
        "        config = check_and_merge_config(config or {}, ac_default_config)\n",
        "        super().__init__(config)\n",
        "        \n",
        "    def process_samples(self, samples):\n",
        "        \"\"\"\n",
        "        In this function, we will compute the target of value function\n",
        "        and also the advantage used for updating policy.\n",
        "        \n",
        "        First, we need to prepare data to compute the values.\n",
        "        \n",
        "        Consider you only collect two trajectories in samples.\n",
        "        Then the data structure should be:\n",
        "            samples[\"obs\"] = [\n",
        "                [\n",
        "                    obs_t1_0,  <<= t=0\n",
        "                    obs_t1_1,  <<= t=1\n",
        "                    obs_t1_n1-1, <<= t=n1-1 \n",
        "                ],  (the traj t1 has length = n1)\n",
        "                [\n",
        "                    obs_t2_0,\n",
        "                    ...\n",
        "                    obs_t2_n2-1 \n",
        "                ]   (the traj t2 has length = n2)\n",
        "            ]\n",
        "        the whole training batch size is N = (n1 + n2).\n",
        "        Then what you should do is to take store\n",
        "        [\n",
        "            obs_t1_1, ..., obs_t1_n1-1, ZERO, \n",
        "            obs_t2_1, ... obs_t2_n2-1, ZERO\n",
        "        ]\n",
        "        into `next_obs` variable, wherein ZERO is a zero array has\n",
        "        same shape as any other observation.\n",
        "        \n",
        "        Besides, you also need to prepare a boolean array `masks`\n",
        "        who has length N. It should be like:\n",
        "        [\n",
        "            False(0), ..., False(n1-2), True(n1-1),\n",
        "            False(0), ..., False(n2-2), True(n2-1)\n",
        "        ].\n",
        "        It represents whether a transition is terminal transition\n",
        "        and whether a observation in next_obs should be masked.\n",
        "        We will used it when computing the bootstrapped values:\n",
        "        \n",
        "            value_t = reward_t + gamma * value_t+1 * (1 - masks)\n",
        "            \n",
        "        So that we will not consider the impact of value_t+1\n",
        "        in terminal state.\n",
        "        \n",
        "        Then, we need to compute the values and advantage based on \n",
        "        the data collected and form a processed_samples for the \n",
        "        consecetive .\n",
        "        \"\"\"\n",
        "        # Define the sum of all trajectory length as N (train batch size)\n",
        "        N = sum([len(traj) for traj in samples[\"obs\"]])\n",
        "        n = len(samples[\"obs\"][0])  # the first traj length\n",
        "        \n",
        "        # [TODO] Create an array named next_obs.\n",
        "        # In each trajectory, take the observations from second\n",
        "        # transitions to the end. Fill an extra all zero observation\n",
        "        # at the end of trajectory to align next_obs with others.\n",
        "        next_obs = []\n",
        "        for obs_list in samples[\"obs\"]:\n",
        "            next_obs.extend(obs_list[1:])\n",
        "            next_obs.extend([[0] * self.obs_dim])\n",
        "            \n",
        "        next_obs = np.array(next_obs)\n",
        "        \n",
        "        assert next_obs.shape == (N, self.obs_dim)\n",
        "        assert np.all(next_obs[n - 1] == 0.0)\n",
        "        \n",
        "        # [TODO] Scan all trajectories and create a boolean array `masks`.\n",
        "        # It should be N length, N is the sum of the trajectories lengths.\n",
        "        # You should loop over each trajectory and store n-1 False into masks\n",
        "        # while storing one True at the end of each episode. n is the length\n",
        "        # of current trajectory.\n",
        "        # Finally, you should transform the list to an float32 array\n",
        "        # with shape (N,)\n",
        "        masks = []\n",
        "        for obs_list in samples[\"obs\"]:\n",
        "            masks.extend([False] * (len(obs_list) - 1))\n",
        "            masks.append(True)\n",
        "            \n",
        "        masks = np.array(masks, dtype=np.float32)\n",
        "        \n",
        "        assert masks.shape == (N,)\n",
        "        assert masks[n - 1] == True\n",
        "        \n",
        "        # flatten rewards\n",
        "        rewards = np.concatenate(samples[\"reward\"])\n",
        "        tensor_rewards = self.to_tensor(rewards)\n",
        "        \n",
        "        # flatten observations\n",
        "        obs = np.concatenate(samples[\"obs\"])\n",
        "        \n",
        "        # [TODO] Compute the bootstrapped values\n",
        "        # Hint: value_t = reward_t + gamma * value_t+1 * (1 - masks)\n",
        "        #  You need to ask self.baseline using next_obs to get \n",
        "        #  the values in next state, then can you compute the \n",
        "        #  value_t.\n",
        "        tensor_next_obs = self.to_tensor(next_obs)\n",
        "        values_tp1 = self.to_array(self.baseline(tensor_next_obs)).squeeze()\n",
        "        # print(f'rewards shape: {rewards.shape}, values_tp1 shape: {values_tp1.shape}, masks shape: {masks.shape}')\n",
        "        values = rewards + self.gamma * values_tp1 * (1 - masks)\n",
        "        \n",
        "        assert isinstance(values, np.ndarray)\n",
        "        assert values.shape == (N,), f'values.shape: {values.shape}, N: {N}'\n",
        "        \n",
        "        # [TODO] Compute the baseline by feeding obs to critic\n",
        "        tensor_obs = self.to_tensor(obs)\n",
        "        baselines = self.baseline(tensor_obs)\n",
        "        baselines = self.to_array(baselines).squeeze()\n",
        "        \n",
        "        assert isinstance(baselines, np.ndarray)\n",
        "        assert baselines.shape == (N,)\n",
        "        \n",
        "        # [TODO] Compute the advantages using values and baselines\n",
        "        advantages = values - baselines\n",
        "        \n",
        "        if self.config[\"normalize_advantage\"]:\n",
        "            # [TODO] normalize the advantages\n",
        "            advantages = (advantages - advantages.mean()) / max(advantages.std(), 1e-6)\n",
        "        \n",
        "        # We passed part of numpy array and part of torch tensor\n",
        "        # to the following modules.\n",
        "        processed_samples = samples\n",
        "        processed_samples[\"advantages\"] = advantages\n",
        "        processed_samples[\"tensor_next_obs\"] = tensor_next_obs\n",
        "        processed_samples[\"tensor_obs\"] = tensor_obs\n",
        "        processed_samples[\"tensor_rewards\"] = tensor_rewards\n",
        "        processed_samples[\"tensor_masks\"] = self.to_tensor(masks)\n",
        "        process_info = {\n",
        "            \"mean_baselines\": float(np.mean(baselines)),\n",
        "            \"advantages_std\": float(advantages.std())\n",
        "        }  # You can add value here so that it will be printed automatically.\n",
        "        return processed_samples, process_info\n",
        "        \n",
        "    def update_baseline(self, processed_samples):\n",
        "        # Use a bootstrapped target values and update the critic.\n",
        "        # Compute the target values r(s, a) + gamma * V(s') by calling\n",
        "        # the critic to compute V(s').\n",
        "        reward = processed_samples[\"tensor_rewards\"]\n",
        "        obs = processed_samples[\"tensor_obs\"]\n",
        "        next_obs = processed_samples[\"tensor_next_obs\"]\n",
        "        masks = processed_samples[\"tensor_masks\"]\n",
        "        \n",
        "        assert masks.shape == reward.shape\n",
        "        assert next_obs.shape == obs.shape\n",
        "        \n",
        "        losses = []\n",
        "        \n",
        "        for _ in range(self.config[\"num_critic_updates\"]):  # Train critic for 10 iteration\n",
        "            self.baseline.eval()\n",
        "            \n",
        "            # Predict the values of next state\n",
        "            values_next = self.baseline(next_obs).reshape(reward.shape)  # a tensor\n",
        "            \n",
        "            assert values_next.shape == reward.shape  # tensor shape should equal\n",
        "            \n",
        "            # [TODO] Compute the target of critic using reward, masks\n",
        "            # and values_next (don't forget gamma)\n",
        "            # Hint: the masks are all False (that is, zero) when the state is not\n",
        "            #  terminal state, and are True (one) when is. So we can use (1-masks)\n",
        "            #  as a multiplier to apply to values_next when computing the target.\n",
        "            target = reward + self.gamma * values_next * (1 - masks)\n",
        "            \n",
        "            target = target.detach()\n",
        "            self.baseline.train()\n",
        "\n",
        "            for _ in range(self.config[\"num_critic_update_steps\"]):\n",
        "                # [TODO] Uncomment the whole section\n",
        "                baselines = self.baseline(obs).reshape(reward.shape)\n",
        "                loss = self.baseline_loss(input=baselines, target=target)\n",
        "                self.baseline_optimizer.zero_grad()\n",
        "                loss.backward()\n",
        "                torch.nn.utils.clip_grad_norm_(\n",
        "                    self.baseline.parameters(), self.config[\"clip_gradient\"]\n",
        "                )\n",
        "                self.baseline_optimizer.step()\n",
        "                losses.append(loss.item())\n",
        "            \n",
        "        self.baseline.eval()\n",
        "        return {\"critic_loss\": np.mean(losses)}\n"
      ]
    },
    {
      "cell_type": "code",
      "execution_count": null,
      "metadata": {
        "scrolled": true,
        "id": "THnCWTFrURF7"
      },
      "outputs": [],
      "source": [
        "# Run this cell without modification\n",
        "\n",
        "ac_trainer, ac_result = run(ActorCriticTrainer, dict(\n",
        "    learning_rate=0.01,\n",
        "    max_episode_length=200,\n",
        "    train_batch_size=200,\n",
        "), 195.0)"
      ]
    },
    {
      "cell_type": "code",
      "execution_count": null,
      "metadata": {
        "id": "S_yNIgmRURF8",
        "colab": {
          "base_uri": "https://localhost:8080/",
          "height": 314
        },
        "outputId": "bda4d17c-5e99-4c6f-bbef-a49d65a21046"
      },
      "outputs": [
        {
          "output_type": "execute_result",
          "data": {
            "text/plain": [
              "Text(0.5, 1.0, 'Policy Gradient')"
            ]
          },
          "metadata": {},
          "execution_count": 57
        },
        {
          "output_type": "display_data",
          "data": {
            "text/plain": [
              "<Figure size 432x288 with 1 Axes>"
            ],
            "image/png": "[encoded data removed]"
          },
          "metadata": {
            "needs_background": "light"
          }
        }
      ],
      "source": [
        "# Run this cell without modification\n",
        "\n",
        "pg_result_na[\"label\"] = \"Pure PG\"\n",
        "pgwb_result_wb[\"label\"] = \"PG with Baseline\"\n",
        "ac_result[\"label\"] = \"Actor-critic\"\n",
        "pg_result = pd.concat([pg_result_na, pgwb_result_wb, ac_result]).reset_index()\n",
        "ax = sns.lineplot(\n",
        "    x=\"total_timesteps\", \n",
        "    y=\"performance\", \n",
        "    data=pg_result, hue=\"label\",\n",
        ")\n",
        "ax.set_title(\"Policy Gradient\")"
      ]
    },
    {
      "cell_type": "markdown",
      "metadata": {
        "id": "E4kyOmYaURF8"
      },
      "source": [
        "### Section 4.2 -- Land on the Moon!\n",
        "\n",
        "(5 / 100 points)\n",
        "\n",
        "Let's try to land on the moon! In this section, we will try a harder environment: \"LunarLander-v2\". The agent needs to control the lander to land on a small interval of the moon marked by the flags. Due to the complex dynamic of rocket, the environment is hard to solve and it may take hours for you to train. \n",
        "\n",
        "The environment provides a 8-element vector as observation, which is different from the image observation provided by the following Pong environment in the next setion."
      ]
    },
    {
      "cell_type": "code",
      "execution_count": null,
      "metadata": {
        "id": "wvKtGHwVURF8"
      },
      "outputs": [],
      "source": [
        "# Run this cell without modification\n",
        "e = gym.make(\"LunarLander-v2\"); e.reset()\n",
        "frames = []\n",
        "for _ in range(1000):\n",
        "    frames.append(e.render(\"rgb_array\"))\n",
        "    if e.step(e.action_space.sample())[2]: break\n",
        "e.close();animate(frames);del e"
      ]
    },
    {
      "cell_type": "code",
      "execution_count": null,
      "metadata": {
        "id": "1tNPBBgBURF9"
      },
      "outputs": [],
      "source": [
        "import gym"
      ]
    },
    {
      "cell_type": "code",
      "execution_count": null,
      "metadata": {
        "id": "2wnMqD_8URF9"
      },
      "outputs": [],
      "source": [
        "e = gym.make(\"LunarLander-v2\")"
      ]
    },
    {
      "cell_type": "code",
      "execution_count": null,
      "metadata": {
        "id": "Jtj21sAiURF9",
        "colab": {
          "base_uri": "https://localhost:8080/"
        },
        "outputId": "578b6d18-c19f-4e54-cfd2-386d24d4b106"
      },
      "outputs": [
        {
          "output_type": "execute_result",
          "data": {
            "text/plain": [
              "Box(-inf, inf, (8,), float32)"
            ]
          },
          "metadata": {},
          "execution_count": 64
        }
      ],
      "source": [
        "e.observation_space"
      ]
    },
    {
      "cell_type": "code",
      "execution_count": null,
      "metadata": {
        "scrolled": true,
        "id": "CKqdfpM0URF-"
      },
      "outputs": [],
      "source": [
        "# Run this cell without modification\n",
        "\n",
        "ac_trainer_lander, ac_result_lander = run(ActorCriticTrainer, dict(\n",
        "    env_name=\"LunarLander-v2\",\n",
        "    max_iteration=500,\n",
        "    learning_rate=0.005,\n",
        "    max_episode_length=1000,\n",
        "    train_batch_size=10000,\n",
        "    normalize_advantage=True,\n",
        "    evaluate_interval=1,\n",
        "    evaluate_num_episodes=5,\n",
        "), 200)\n",
        "\n",
        "# Hint: 1. This would take hours to train on personal laptop.\n",
        "#       2. Episode reward should greater than 0 after 80 iterations.\n",
        "#       3. We are using purely on-policy algorithm, so we expect the performance \n",
        "#          to be highly unstable.\n"
      ]
    },
    {
      "cell_type": "code",
      "execution_count": null,
      "metadata": {
        "id": "RVqmV4RdURF-"
      },
      "outputs": [],
      "source": [
        "# Run this cell without modification\n",
        "\n",
        "# Plot the result to diagnose potential problem.\n",
        "sns.lineplot(\n",
        "    x=\"total_timesteps\", y=\"performance\", data=ac_result_lander\n",
        ").set_title(\"Episode Reward in LunarLander-v2\")"
      ]
    },
    {
      "cell_type": "code",
      "execution_count": null,
      "metadata": {
        "id": "o97b3WrdURF_"
      },
      "outputs": [],
      "source": [
        "# Run this cell without modification\n",
        "\n",
        "# You should see a pop up window which display the movement of the cart and pole.\n",
        "print(\"Average episode reward for your Actor-critic agent in LunarLander-v2: \",\n",
        "      ac_trainer_lander.evaluate(1, render=True))\n",
        "print(\"One small step for agent, one giant leap for mankind.\")"
      ]
    },
    {
      "cell_type": "markdown",
      "metadata": {
        "id": "6SF10JbbURF_"
      },
      "source": [
        "### Section 4.3: Even harder -- train Pong agents\n",
        "\n",
        "(5 / 100 points)"
      ]
    },
    {
      "cell_type": "code",
      "execution_count": null,
      "metadata": {
        "id": "TcsLtaohURGA"
      },
      "outputs": [],
      "source": [
        "# Run this cell without modification\n",
        "e = gym.make(\"PongDeterministic-v4\"); e.reset()\n",
        "frames = []\n",
        "for _ in range(1000):\n",
        "    frames.append(e.render(\"rgb_array\"))\n",
        "    if e.step(e.action_space.sample())[2]: break\n",
        "e.close();animate(frames);del e"
      ]
    },
    {
      "cell_type": "markdown",
      "metadata": {
        "id": "b6M_tU-WURGA"
      },
      "source": [
        "\n",
        "In this section, we will train agents to play Pong game in Atari environment. The agent control the bat on the right with up or down action to make it hit the table tennis ball to left side. The agent need to beat a rule-based AI.\n",
        "\n",
        "The observation of the environment `PongDeterministic-v4` is an image of 210 X 160 X 3 pixels. We compress the image and flatten it to be a vector with 6400 elements. To do this, we provide you a wrapper class which wrap the actor-critic trainer to fit this environment. You need to implement the save and restore functions.\n",
        "\n",
        "In the assignment 4, we will trained state of the art Pong agents with various algorithms. Your agents will battle with other AI. Let's get familiar with Pong by finishing this section!"
      ]
    },
    {
      "cell_type": "code",
      "execution_count": null,
      "metadata": {
        "id": "g5zC_oO5URGA"
      },
      "outputs": [],
      "source": [
        "# Run this cell without modification\n",
        "\n",
        "def process_img(img):\n",
        "    \"\"\"In this function, we process the raw image array into a flat vector.\n",
        "    We assume the img has four dimension, with shape in [Batch size, Width, Height, Channel].\n",
        "    Therefore the raw image is a 4D matrix containing the intensity of colors.\n",
        "    \"\"\"\n",
        "    assert img.shape[-3:] == (210, 160, 3), img.shape\n",
        "    \n",
        "    # Add extra axis if input is a single image and make it looks like a batch.\n",
        "    single_img = False\n",
        "    if img.ndim == 3:\n",
        "        img = img[None, ...]\n",
        "        single_img = True\n",
        "        \n",
        "    # Crop the image\n",
        "    img = img[:, 35:195]\n",
        "    \n",
        "    # Shrink the image size by taking only 1/4 of the pixel\n",
        "    img = img[:, ::2, ::2, 0]\n",
        "    \n",
        "    # Erase background\n",
        "    img[img == 144] = 0\n",
        "    img[img == 109] = 0\n",
        "    \n",
        "    # Paint everything (paddles, ball) to 1\n",
        "    img[img != 0 ] = 1\n",
        "    \n",
        "    # Flatten image to vector\n",
        "    img = img.astype(np.float).reshape(-1, 6400)\n",
        "    \n",
        "    # Reverse single image\n",
        "    if single_img:\n",
        "        img = img[0, ...]\n",
        "    return img"
      ]
    },
    {
      "cell_type": "code",
      "execution_count": null,
      "metadata": {
        "id": "BNpcOX_BURGB"
      },
      "outputs": [],
      "source": [
        "# Solve the TODOs and remove `pass`\n",
        "\n",
        "def pong_wrapper(trainer):\n",
        "    assert inspect.isclass(trainer)\n",
        "    \n",
        "    class WrappedTrainer(trainer):\n",
        "        def __init__(self, *a, **k):\n",
        "            super().__init__(*a, **k)\n",
        "            self.obs_dim = 6400\n",
        "            self.build_model()\n",
        "            assert \"Pong\" in self.config[\"env_name\"]\n",
        "            \n",
        "        def compute_action(self, obs):\n",
        "            obs = process_img(obs)\n",
        "            return super().compute_action(obs)\n",
        "            \n",
        "        def process_samples(self, samples):\n",
        "            samples[\"obs\"] = [process_img(traj_obs) for traj_obs in samples[\"obs\"]]\n",
        "            return super().process_samples(samples)\n",
        "        \n",
        "        def train(self):\n",
        "            ret = super().train()\n",
        "            if self.iteration % self.config[\"evaluate_interval\"] == 0:\n",
        "                self.save(\"iter{}\".format(self.iteration))\n",
        "                print(\"Finished {} iterations training. \"\n",
        "                      \"Checkpoint is saved in checkpoints directory.\".format(self.iteration))\n",
        "            return ret\n",
        "        \n",
        "        def save(self, surfix=\"checkpoint\"):\n",
        "            import pickle\n",
        "            import os\n",
        "            os.makedirs(\"checkpoints\", exist_ok=True)\n",
        "            policy_file_name = \"checkpoints/pong-agent-{}-policy.pkl\".format(surfix)\n",
        "            with open(policy_file_name, \"wb\") as f:\n",
        "                # [TODO] Use function of pickle package and torch model to save \n",
        "                # the parameters of self.policy to file \"f\".\n",
        "                # Hint: a function called state_dict of torch model may help.\n",
        "                pickle.dump(self.policy.state_dict(), f)\n",
        "            \n",
        "            baseline_file_name = \"checkpoints/pong-agent-{}-baseline.pkl\".format(surfix)\n",
        "            with open(baseline_file_name, \"wb\") as f:\n",
        "                # [TODO] Use function of pickle package and torch model to save \n",
        "                # the parameters of self.baseline to file \"f\".\n",
        "                pickle.dump(self.baseline.state_dict(), f)\n",
        "                    \n",
        "        def restore(self, surfix=\"checkpoint\"):\n",
        "            import pickle\n",
        "            policy_file_name = \"checkpoints/pong-agent-{}-policy.pkl\".format(surfix)\n",
        "            with open(policy_file_name, \"rb\") as f:\n",
        "                # [TODO] Use function of pickle package and torch model to restore \n",
        "                # the parameters of self.policy from file \"f\".\n",
        "                # Hint: a function called load_state_dict of torch model may help.\n",
        "                state_dict = pickle.load(f)\n",
        "                self.policy.load_state_dict(state_dict)\n",
        "                \n",
        "            baseline_file_name = \"checkpoints/pong-agent-{}-baseline.pkl\".format(surfix)\n",
        "            with open(baseline_file_name, \"rb\") as f:\n",
        "                # [TODO] Use function of pickle package and torch model to restore \n",
        "                # the parameters of self.baseline from file \"f\".\n",
        "                state_dict = pickle.load(f)\n",
        "                self.baseline.load_state_dict(state_dict)\n",
        "        \n",
        "    return WrappedTrainer\n",
        "\n",
        "\n",
        "# Test save and restore\n",
        "pong_wrapper(ActorCriticTrainer)({\"env_name\": \"Pong-v0\"}).save(\"test\")\n",
        "pong_wrapper(ActorCriticTrainer)({\"env_name\": \"Pong-v0\"}).restore(\"test\")\n",
        "import os\n",
        "os.remove(\"checkpoints/pong-agent-test-baseline.pkl\")\n",
        "os.remove(\"checkpoints/pong-agent-test-policy.pkl\")\n",
        "print(\"Test passed!\")"
      ]
    },
    {
      "cell_type": "code",
      "execution_count": null,
      "metadata": {
        "scrolled": true,
        "id": "zDmTzXWjURGB"
      },
      "outputs": [],
      "source": [
        "# Run this cell without modification\n",
        "\n",
        "pong_ac_config = dict(\n",
        "    # environment\n",
        "    env_name=\"PongDeterministic-v4\",\n",
        "\n",
        "    # model\n",
        "    hidden_units=100,\n",
        "\n",
        "    # training inner loop\n",
        "    learning_rate=0.0005,\n",
        "\n",
        "    # training outer loop\n",
        "    max_iteration=200,\n",
        "    max_episode_length=5000,  # In fact the game end at 10000 steps\n",
        "    train_batch_size=5000,\n",
        "\n",
        "    # evaluation\n",
        "    evaluate_interval=10,\n",
        "    evaluate_num_episodes=10\n",
        ")\n",
        "\n",
        "ac_trainer_pong, ac_result_pong = run(pong_wrapper(ActorCriticTrainer), pong_ac_config, 18.0)\n",
        "\n",
        "# Hint: Performance should greater than -20.0 within one hour.\n",
        "# We do not require you to solve the task, but you need to make your agent achieve > -20 reward."
      ]
    },
    {
      "cell_type": "code",
      "execution_count": null,
      "metadata": {
        "id": "2_yk3SAwURGB"
      },
      "outputs": [],
      "source": [
        "surfix = \"iter130\"\n",
        "\n",
        "ac_trainer_pong_restored = pong_wrapper(ActorCriticTrainer)(pong_ac_config)\n",
        "ac_trainer_pong_restored.restore(surfix)\n",
        "\n",
        "print(\"Average episode reward for your Actor-critic agent in PongDeterministic-v4: \",\n",
        "      ac_trainer_pong_restored.evaluate(1, render=True))"
      ]
    },
    {
      "cell_type": "code",
      "execution_count": null,
      "metadata": {
        "id": "-I4KZGwIURGB"
      },
      "outputs": [],
      "source": []
    },
    {
      "cell_type": "code",
      "execution_count": null,
      "metadata": {
        "id": "_Q2CN7CiURGC"
      },
      "outputs": [],
      "source": []
    },
    {
      "cell_type": "markdown",
      "metadata": {
        "id": "d2jRpkTcURGC"
      },
      "source": [
        "------\n",
        "\n",
        "## Conclusion and Discussion\n",
        "\n",
        "In this assignment, we implement several policy gradient algorithms.\n",
        "\n",
        "It's OK to leave the following cells empty. In the next markdown cell, you can write whatever you like. Like the suggestion on the course, the confusing problems in the assignments, and so on.\n",
        "\n",
        "If you want to do more investigation, feel free to open new cells via `Esc + B` after the next cells and write codes in it, so that you can reuse some result in this notebook. Remember to write sufficient comments and documents to let others know what you are doing.\n",
        "\n",
        "Following the submission instruction in the assignment to submit your assignment to our staff. Thank you!\n",
        "\n",
        "------"
      ]
    },
    {
      "cell_type": "code",
      "execution_count": null,
      "metadata": {
        "id": "7dOr0vAYURGC"
      },
      "outputs": [],
      "source": []
    },
    {
      "cell_type": "code",
      "execution_count": null,
      "metadata": {
        "id": "oFfumTI4URGC"
      },
      "outputs": [],
      "source": []
    }
  ],
  "metadata": {
    "kernelspec": {
      "display_name": "Python 3",
      "language": "python",
      "name": "python3"
    },
    "language_info": {
      "codemirror_mode": {
        "name": "ipython",
        "version": 3
      },
      "file_extension": ".py",
      "mimetype": "text/x-python",
      "name": "python",
      "nbconvert_exporter": "python",
      "pygments_lexer": "ipython3",
      "version": "3.7.6"
    },
    "colab": {
      "provenance": []
    }
  },
  "nbformat": 4,
  "nbformat_minor": 0
}